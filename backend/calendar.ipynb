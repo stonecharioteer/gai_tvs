{
 "cells": [
  {
   "cell_type": "code",
   "execution_count": 3,
   "metadata": {},
   "outputs": [],
   "source": [
    "import pandas as pd\n",
    "calendar = \"calendar.xlsx\"\n",
    "training = pd.read_excel(calendar, sheet_name=\"training\")\n",
    "travel = pd.read_excel(calendar, sheet_name=\"travel\")"
   ]
  },
  {
   "cell_type": "code",
   "execution_count": 15,
   "metadata": {},
   "outputs": [
    {
     "data": {
      "text/plain": [
       "7"
      ]
     },
     "execution_count": 15,
     "metadata": {},
     "output_type": "execute_result"
    }
   ],
   "source": [
    "import datetime\n",
    "datetime.date.today().month"
   ]
  },
  {
   "cell_type": "code",
   "execution_count": 28,
   "metadata": {},
   "outputs": [],
   "source": [
    "def type_ad(title):\n",
    "    if \"travel to\" in title.lower() or \"departure to\" in title.lower():\n",
    "        return \"DEPARTURE\"\n",
    "    elif \"return from\" in title.lower():\n",
    "        return \"ARRIVAL\"\n",
    "    else:\n",
    "        return \"VISITOR\"\n",
    "travel[\"Type\"] = travel[\"Title\"].apply(type_ad)"
   ]
  },
  {
   "cell_type": "code",
   "execution_count": 59,
   "metadata": {},
   "outputs": [
    {
     "data": {
      "text/html": [
       "<div>\n",
       "<style scoped>\n",
       "    .dataframe tbody tr th:only-of-type {\n",
       "        vertical-align: middle;\n",
       "    }\n",
       "\n",
       "    .dataframe tbody tr th {\n",
       "        vertical-align: top;\n",
       "    }\n",
       "\n",
       "    .dataframe thead th {\n",
       "        text-align: right;\n",
       "    }\n",
       "</style>\n",
       "<table border=\"1\" class=\"dataframe\">\n",
       "  <thead>\n",
       "    <tr style=\"text-align: right;\">\n",
       "      <th></th>\n",
       "      <th>Recurrence</th>\n",
       "      <th>Title</th>\n",
       "      <th>Location</th>\n",
       "      <th>Start Time</th>\n",
       "      <th>End Time</th>\n",
       "      <th>All Day Event</th>\n",
       "      <th>Item Type</th>\n",
       "      <th>Path</th>\n",
       "    </tr>\n",
       "  </thead>\n",
       "  <tbody>\n",
       "    <tr>\n",
       "      <th>14</th>\n",
       "      <td>False</td>\n",
       "      <td>3D Printing Training</td>\n",
       "      <td>Aryabhatta</td>\n",
       "      <td>2018-07-13 10:30:00</td>\n",
       "      <td>2018-07-13 13:00:00</td>\n",
       "      <td>False</td>\n",
       "      <td>Item</td>\n",
       "      <td>sites/gai/strategy2018/Lists/GAI Training Cale...</td>\n",
       "    </tr>\n",
       "    <tr>\n",
       "      <th>15</th>\n",
       "      <td>False</td>\n",
       "      <td>GT Engine design theory and process Training</td>\n",
       "      <td>Aryabhatta</td>\n",
       "      <td>2018-07-20 10:00:00</td>\n",
       "      <td>2018-07-20 13:00:00</td>\n",
       "      <td>False</td>\n",
       "      <td>Item</td>\n",
       "      <td>sites/gai/strategy2018/Lists/GAI Training Cale...</td>\n",
       "    </tr>\n",
       "    <tr>\n",
       "      <th>16</th>\n",
       "      <td>False</td>\n",
       "      <td>GD&amp;T</td>\n",
       "      <td>Aryabhatta</td>\n",
       "      <td>2018-07-24 00:00:00</td>\n",
       "      <td>2018-07-25 23:59:00</td>\n",
       "      <td>True</td>\n",
       "      <td>Item</td>\n",
       "      <td>sites/gai/strategy2018/Lists/GAI Training Cale...</td>\n",
       "    </tr>\n",
       "    <tr>\n",
       "      <th>17</th>\n",
       "      <td>False</td>\n",
       "      <td>14001 and 18001 Internal Audit</td>\n",
       "      <td>NaN</td>\n",
       "      <td>2018-07-27 10:30:00</td>\n",
       "      <td>2018-07-27 12:00:00</td>\n",
       "      <td>False</td>\n",
       "      <td>Item</td>\n",
       "      <td>sites/gai/strategy2018/Lists/GAI Training Cale...</td>\n",
       "    </tr>\n",
       "  </tbody>\n",
       "</table>\n",
       "</div>"
      ],
      "text/plain": [
       "    Recurrence                                         Title    Location  \\\n",
       "14       False                          3D Printing Training  Aryabhatta   \n",
       "15       False  GT Engine design theory and process Training  Aryabhatta   \n",
       "16       False                                          GD&T  Aryabhatta   \n",
       "17       False                14001 and 18001 Internal Audit         NaN   \n",
       "\n",
       "            Start Time            End Time  All Day Event Item Type  \\\n",
       "14 2018-07-13 10:30:00 2018-07-13 13:00:00          False      Item   \n",
       "15 2018-07-20 10:00:00 2018-07-20 13:00:00          False      Item   \n",
       "16 2018-07-24 00:00:00 2018-07-25 23:59:00           True      Item   \n",
       "17 2018-07-27 10:30:00 2018-07-27 12:00:00          False      Item   \n",
       "\n",
       "                                                 Path  \n",
       "14  sites/gai/strategy2018/Lists/GAI Training Cale...  \n",
       "15  sites/gai/strategy2018/Lists/GAI Training Cale...  \n",
       "16  sites/gai/strategy2018/Lists/GAI Training Cale...  \n",
       "17  sites/gai/strategy2018/Lists/GAI Training Cale...  "
      ]
     },
     "execution_count": 59,
     "metadata": {},
     "output_type": "execute_result"
    }
   ],
   "source": [
    "training.loc[[x and y for (x,y) in zip(training[\"Start Time\"] >= datetime.date(2018,7,1), training[\"End Time\"] <= datetime.date(2018,7,31))]]\n"
   ]
  }
 ],
 "metadata": {
  "kernelspec": {
   "display_name": "Python 2",
   "language": "python",
   "name": "python2"
  },
  "language_info": {
   "codemirror_mode": {
    "name": "ipython",
    "version": 2
   },
   "file_extension": ".py",
   "mimetype": "text/x-python",
   "name": "python",
   "nbconvert_exporter": "python",
   "pygments_lexer": "ipython2",
   "version": "2.7.14"
  }
 },
 "nbformat": 4,
 "nbformat_minor": 2
}
